{
 "cells": [
  {
   "cell_type": "code",
   "execution_count": 3,
   "metadata": {},
   "outputs": [],
   "source": [
    "from watson_developer_cloud import TextToSpeechV1\n",
    "\n",
    "try:\n",
    "    \n",
    "    text_to_speech = TextToSpeechV1(\n",
    "                username='6e22b5f5-95c7-42a2-b0b4-a99b4abba652',\n",
    "                password='p86W2M0XkOdG'\n",
    "            )\n",
    "\n",
    "    with open('alert_result.wav', 'wb') as audio_file:\n",
    "        audio_file.write(\n",
    "            text_to_speech.synthesize(\n",
    "                'Your response option',\n",
    "                'audio/wav',\n",
    "                'en-US_AllisonVoice'\n",
    "            ).get_result().content)\n",
    "        \n",
    "except WatsonApiException as ex:\n",
    "    print(\"Method failed with status code \" + str(ex.code) + \": \" + ex.message)"
   ]
  },
  {
   "cell_type": "code",
   "execution_count": 4,
   "metadata": {},
   "outputs": [
    {
     "data": {
      "text/plain": [
       "<watson_developer_cloud.text_to_speech_v1.TextToSpeechV1 at 0x203a4c9f860>"
      ]
     },
     "execution_count": 4,
     "metadata": {},
     "output_type": "execute_result"
    }
   ],
   "source": [
    "text_to_speech"
   ]
  },
  {
   "cell_type": "code",
   "execution_count": null,
   "metadata": {},
   "outputs": [],
   "source": []
  }
 ],
 "metadata": {
  "kernelspec": {
   "display_name": "Python 3",
   "language": "python",
   "name": "python3"
  },
  "language_info": {
   "codemirror_mode": {
    "name": "ipython",
    "version": 3
   },
   "file_extension": ".py",
   "mimetype": "text/x-python",
   "name": "python",
   "nbconvert_exporter": "python",
   "pygments_lexer": "ipython3",
   "version": "3.5.6"
  }
 },
 "nbformat": 4,
 "nbformat_minor": 2
}
